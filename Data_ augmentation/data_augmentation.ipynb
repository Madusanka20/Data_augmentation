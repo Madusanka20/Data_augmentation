{
 "cells": [
  {
   "cell_type": "code",
   "execution_count": 1,
   "id": "85874626",
   "metadata": {},
   "outputs": [],
   "source": [
    "# import methods (to convert images to numerical array and load images)\n",
    "from tensorflow.keras.utils import img_to_array, load_img"
   ]
  },
  {
   "cell_type": "code",
   "execution_count": 2,
   "id": "c70e70be",
   "metadata": {},
   "outputs": [],
   "source": [
    "# load image to augmnetation\n",
    "img = load_img('sahan.jpg')"
   ]
  },
  {
   "cell_type": "code",
   "execution_count": 3,
   "id": "6393a5e1",
   "metadata": {},
   "outputs": [],
   "source": [
    "# Only for view \n",
    "img.show()"
   ]
  },
  {
   "cell_type": "code",
   "execution_count": 4,
   "id": "9587f4f9",
   "metadata": {},
   "outputs": [],
   "source": [
    "# convert image to numerical array\n",
    "x = img_to_array(img)"
   ]
  },
  {
   "cell_type": "code",
   "execution_count": 5,
   "id": "e5a36683",
   "metadata": {},
   "outputs": [
    {
     "data": {
      "text/plain": [
       "(482, 474, 3)"
      ]
     },
     "execution_count": 5,
     "metadata": {},
     "output_type": "execute_result"
    }
   ],
   "source": [
    "x.shape"
   ]
  },
  {
   "cell_type": "code",
   "execution_count": 6,
   "id": "c5984f5a",
   "metadata": {},
   "outputs": [],
   "source": [
    "# reshape image ( Need 4 dimentions)\n",
    "x = x.reshape((1,) + x.shape)"
   ]
  },
  {
   "cell_type": "code",
   "execution_count": 7,
   "id": "d377ce59",
   "metadata": {},
   "outputs": [
    {
     "data": {
      "text/plain": [
       "(1, 482, 474, 3)"
      ]
     },
     "execution_count": 7,
     "metadata": {},
     "output_type": "execute_result"
    }
   ],
   "source": [
    "x.shape"
   ]
  },
  {
   "cell_type": "code",
   "execution_count": 8,
   "id": "0181978a",
   "metadata": {},
   "outputs": [],
   "source": [
    "# import ImageDataGenerator class\n",
    "from tensorflow.keras.preprocessing.image import ImageDataGenerator"
   ]
  },
  {
   "cell_type": "code",
   "execution_count": 9,
   "id": "ee15b63e",
   "metadata": {},
   "outputs": [],
   "source": [
    "# initialize data augmentation object\n",
    "datagen = ImageDataGenerator(\n",
    "        rotation_range=40,\n",
    "        width_shift_range=0.2,\n",
    "        height_shift_range=0.2,\n",
    "        rescale=1./255,\n",
    "        shear_range=0.2,\n",
    "        zoom_range=0.2,\n",
    "        horizontal_flip=True)"
   ]
  },
  {
   "cell_type": "code",
   "execution_count": 10,
   "id": "68e7da2e",
   "metadata": {},
   "outputs": [],
   "source": [
    "# apply data augmentation on images\n",
    "i = 0\n",
    "for batch in datagen.flow(x, batch_size=1, save_to_dir='augmentation', save_prefix='sahan', save_format='jpeg'):\n",
    "    i += 1\n",
    "    if i > 20:\n",
    "        break"
   ]
  },
  {
   "cell_type": "code",
   "execution_count": null,
   "id": "3b306738",
   "metadata": {},
   "outputs": [],
   "source": []
  }
 ],
 "metadata": {
  "kernelspec": {
   "display_name": "Python 3",
   "language": "python",
   "name": "python3"
  },
  "language_info": {
   "codemirror_mode": {
    "name": "ipython",
    "version": 3
   },
   "file_extension": ".py",
   "mimetype": "text/x-python",
   "name": "python",
   "nbconvert_exporter": "python",
   "pygments_lexer": "ipython3",
   "version": "3.11.3"
  }
 },
 "nbformat": 4,
 "nbformat_minor": 5
}
